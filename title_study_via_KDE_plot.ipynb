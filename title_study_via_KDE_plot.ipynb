{
 "cells": [
  {
   "cell_type": "markdown",
   "id": "2207da77-44af-4c66-bb36-b70810d72409",
   "metadata": {},
   "source": [
    "# Cleaning Data"
   ]
  },
  {
   "cell_type": "code",
   "execution_count": null,
   "id": "a0e281ea-7714-44a9-abb6-c68993bc1233",
   "metadata": {},
   "outputs": [],
   "source": [
    "import pandas as pd\n",
    "import numpy as np\n",
    "import matplotlib.pyplot as plt\n",
    "import networkx as nx\n",
    "import random\n",
    "import pickle\n",
    "import seaborn as sns"
   ]
  },
  {
   "cell_type": "code",
   "execution_count": null,
   "id": "485002d7-791d-46de-9efd-3a478f502dc9",
   "metadata": {},
   "outputs": [],
   "source": [
    "clean = pd.read_csv('data.csv')"
   ]
  },
  {
   "cell_type": "code",
   "execution_count": null,
   "id": "ab9c1591-653e-4676-a3d6-226e28f64ca4",
   "metadata": {},
   "outputs": [],
   "source": [
    "clean.head()"
   ]
  },
  {
   "cell_type": "code",
   "execution_count": null,
   "id": "e42000b3-4a16-49b8-894c-5ab1cc6638ab",
   "metadata": {},
   "outputs": [],
   "source": [
    "clean.info()"
   ]
  },
  {
   "cell_type": "code",
   "execution_count": null,
   "id": "d8698f9d-60b3-4f33-89cc-aa9f13f395a6",
   "metadata": {},
   "outputs": [],
   "source": [
    "most_common_symbol = clean['symbol'].value_counts()\n",
    "most_common_symbol"
   ]
  },
  {
   "cell_type": "code",
   "execution_count": null,
   "id": "af38f503-651b-4ddf-a216-dbd88b317bf2",
   "metadata": {},
   "outputs": [],
   "source": [
    "user_choice1 = input(f\"Enter the company stock you would like to check: \")"
   ]
  },
  {
   "cell_type": "code",
   "execution_count": null,
   "id": "b28ff09b-2103-4814-84b6-4ef6bae2e950",
   "metadata": {},
   "outputs": [],
   "source": [
    "clean = clean[clean['symbol'] == user_choice1]\n",
    "clean"
   ]
  },
  {
   "cell_type": "code",
   "execution_count": null,
   "id": "b70bcd37-b636-47bd-95da-acad13b5491c",
   "metadata": {},
   "outputs": [],
   "source": [
    "# duplicates in f_date\n",
    "duplicates = clean[clean.duplicated(subset='f_date', keep=False)]\n",
    "\n",
    "# drop duplicates on f_date\n",
    "clean = clean.drop_duplicates(subset='f_date')"
   ]
  },
  {
   "cell_type": "code",
   "execution_count": null,
   "id": "39b07943-7d77-4884-a4d3-ba65cfad13e6",
   "metadata": {},
   "outputs": [],
   "source": [
    "clean.loc[:, 'f_date'] = pd.to_datetime(clean['f_date'])\n",
    "clean['f_date'].info()\n",
    "clean.head()"
   ]
  },
  {
   "cell_type": "code",
   "execution_count": null,
   "id": "3a44e018-0075-49b5-9558-ae3e29d617e6",
   "metadata": {},
   "outputs": [],
   "source": [
    "clean = clean.set_index('f_date')\n",
    "clean.index = pd.to_datetime(clean.index)\n",
    "all_dates = pd.date_range(start=clean.index.min(), end=clean.index.max(), freq='D')\n",
    "clean = clean.reindex(all_dates)\n",
    "clean = clean.infer_objects() # called, but still future warning is shown\n",
    "clean"
   ]
  },
  {
   "cell_type": "code",
   "execution_count": null,
   "id": "e0fbd1a4-24e4-4fac-9f82-e431075bf3d0",
   "metadata": {},
   "outputs": [],
   "source": [
    "clean = clean.drop([\"Unnamed: 0\", \"sector\", \"percent_change\"], axis = 1)"
   ]
  },
  {
   "cell_type": "code",
   "execution_count": null,
   "id": "24364873-b5d2-4fa8-9808-e6ea7e358b48",
   "metadata": {},
   "outputs": [],
   "source": [
    "clean.head()"
   ]
  },
  {
   "cell_type": "code",
   "execution_count": null,
   "id": "0ca64d33-b715-4526-bdb1-74d86ae1e027",
   "metadata": {},
   "outputs": [],
   "source": [
    "clean['avg'] = clean[['open', 'high', 'low', 'close']].mean(axis = 1)\n",
    "clean.head()"
   ]
  },
  {
   "cell_type": "code",
   "execution_count": null,
   "id": "e2d92eb8-ae20-48b6-81e4-74db52517567",
   "metadata": {},
   "outputs": [],
   "source": [
    "clean = clean.ffill()\n",
    "clean.head()"
   ]
  },
  {
   "cell_type": "code",
   "execution_count": null,
   "id": "7b467946-7012-4d69-9dc6-64779d0261ca",
   "metadata": {},
   "outputs": [],
   "source": [
    "clean.reset_index(inplace=True)"
   ]
  },
  {
   "cell_type": "code",
   "execution_count": null,
   "id": "5cfdb5d6-8d20-4703-985c-4da38207ec7e",
   "metadata": {},
   "outputs": [],
   "source": [
    "clean.head()"
   ]
  },
  {
   "cell_type": "code",
   "execution_count": null,
   "id": "7e6e4443-e931-4d6f-ad05-89746c99641f",
   "metadata": {},
   "outputs": [],
   "source": [
    "clean.rename(columns={'index': 'f_date'}, inplace=True)\n",
    "clean"
   ]
  },
  {
   "cell_type": "markdown",
   "id": "aef4bc01-8158-45d9-ba2f-c3542c8a9025",
   "metadata": {},
   "source": [
    "# Creation of Visibility Graph"
   ]
  },
  {
   "cell_type": "code",
   "execution_count": null,
   "id": "d7b893be-81e5-413d-ae35-726695b1b3d5",
   "metadata": {},
   "outputs": [],
   "source": [
    "rows = []\n",
    "\n",
    "window_size = int(input(\"Enter the sliding window days: \"))  # use a any-day window for demonstration\n",
    "for i in range(len(clean) - window_size):\n",
    "    \n",
    "    # Extract 'avg' features\n",
    "    avg_features = clean['avg'].iloc[i:i+window_size].values\n",
    "    \n",
    "    # Extract 'volume' features\n",
    "    volume_features = clean['volume'].iloc[i:i+window_size].values\n",
    "\n",
    "    # Extract 'open' features\n",
    "    open_features = clean['open'].iloc[i:i+window_size].values\n",
    "\n",
    "    # Extract 'high' features\n",
    "    high_features = clean['high'].iloc[i:i+window_size].values\n",
    "\n",
    "    # Extract 'low' features\n",
    "    low_features = clean['low'].iloc[i:i+window_size].values\n",
    "    \n",
    "    # Extract 'close' features\n",
    "    close_features = clean['close'].iloc[i:i+window_size].values\n",
    "\n",
    "    # Define the target as the 'avg' value on the future day\n",
    "    # target = clean['avg'].iloc[i + window_size]\n",
    "\n",
    "    # Combine the features and target\n",
    "    rows.append(list(avg_features) + list(volume_features) + list(open_features) + \n",
    "                list(high_features)+ list(low_features) + list(close_features))"
   ]
  },
  {
   "cell_type": "code",
   "execution_count": null,
   "id": "0c996e1e-d169-4aa2-b62f-ad756397c225",
   "metadata": {
    "scrolled": true
   },
   "outputs": [],
   "source": [
    "rows"
   ]
  },
  {
   "cell_type": "code",
   "execution_count": null,
   "id": "3ea2d200-dcbd-40d6-b43e-c23894d89bda",
   "metadata": {},
   "outputs": [],
   "source": [
    "columns = [f'avg_{i+1}' for i in range(window_size)] + [f'volume_{i+1}' for i in range(window_size)] + [f'open_{i+1}' for i in range(window_size)] + [f'high_{i+1}' for i in range(window_size)] + [f'low_{i+1}' for i in range(window_size)] + [f'close_{i+1}' for i in range(window_size)]\n",
    "data = pd.DataFrame(rows, columns = columns)\n",
    "print(data)"
   ]
  },
  {
   "cell_type": "code",
   "execution_count": null,
   "id": "9ec9d0a9-72bd-45f4-ab04-8b030b9dcfbf",
   "metadata": {},
   "outputs": [],
   "source": [
    "data['volume_2'] # verification of existence"
   ]
  },
  {
   "cell_type": "code",
   "execution_count": null,
   "id": "129d7321-e6f2-456a-be11-9629869d748a",
   "metadata": {},
   "outputs": [],
   "source": [
    "data.head()"
   ]
  },
  {
   "cell_type": "code",
   "execution_count": null,
   "id": "3d828b14-4854-44e0-8ec6-54804d4f0324",
   "metadata": {},
   "outputs": [],
   "source": [
    "column_prefix = input(\"Enter the field you would like to explore:\\n close, open, high, avg, volume, low: \\n\")\n",
    "column_names = [f'{column_prefix}_{i}' for i in range(1, window_size + 1)]\n",
    "print(data[column_names])"
   ]
  },
  {
   "cell_type": "code",
   "execution_count": null,
   "id": "9cee9306-3d66-424b-89f3-de5406a967ab",
   "metadata": {
    "scrolled": true
   },
   "outputs": [],
   "source": [
    "from tqdm import tqdm  # for progress tracking\n",
    "data[column_names]"
   ]
  },
  {
   "cell_type": "code",
   "execution_count": null,
   "id": "88bc9e8b-bf28-4794-8ed5-3f3410ffc2b3",
   "metadata": {
    "scrolled": true
   },
   "outputs": [],
   "source": [
    "data[column_names].info()"
   ]
  },
  {
   "cell_type": "code",
   "execution_count": null,
   "id": "2c8b2ec4-e008-44ff-a5b7-425d629f17a1",
   "metadata": {
    "scrolled": true
   },
   "outputs": [],
   "source": [
    "column_names"
   ]
  },
  {
   "cell_type": "code",
   "execution_count": null,
   "id": "2d726d3a-5070-4d0f-990d-45264a148448",
   "metadata": {},
   "outputs": [],
   "source": [
    "data[column_names].values"
   ]
  },
  {
   "cell_type": "code",
   "execution_count": null,
   "id": "c7b888af-80a7-40b2-9a5f-3e7e076d6f5f",
   "metadata": {},
   "outputs": [],
   "source": [
    "# function to create visibility graph from a larger window\n",
    "\n",
    "def for_graph(row):\n",
    "    selected_for_now = row[column_names].values\n",
    "    G = nx.visibility_graph(selected_for_now)\n",
    "\n",
    "    # mapping = {i: val for i, val in enumerate(selected_for_now)} # provides values of rows instead of using indices\n",
    "    # G = nx.relabel_nodes(G, mapping) # mapping indices to rows\n",
    "    # G.remove_edges_from(nx.selfloop_edges(G)) # removing self loops as they provide no info, maybe noise\n",
    "    \n",
    "    return G\n",
    "\n",
    "jati_lekhdaa_ni_huncha = 100"
   ]
  },
  {
   "cell_type": "code",
   "execution_count": null,
   "id": "a7a357f7-1888-4219-b9ab-dcc2fd623440",
   "metadata": {},
   "outputs": [],
   "source": [
    "# function to process data in batches to avoid overwhelming memory (i have only 8GB RAM and 128MB VRAM)\n",
    "\n",
    "def process_in_batches(df, batch_size = jati_lekhdaa_ni_huncha):\n",
    "    \n",
    "    # an empty list to store visibility graphs\n",
    "    visibility_graphs = []\n",
    "    \n",
    "    # process the DataFrame in batches\n",
    "    num_batches = len(df) // batch_size + 1 # number of batches given in integer\n",
    "    \n",
    "    for i in tqdm(range(num_batches)):\n",
    "        batch_df = df.iloc[i * batch_size : (i + 1) * batch_size]\n",
    "        \n",
    "        # generate graphs for the current batch\n",
    "        batch_graphs = [for_graph(row) for _, row in batch_df.iterrows()]\n",
    "        visibility_graphs.extend(batch_graphs)\n",
    "    \n",
    "    return visibility_graphs"
   ]
  },
  {
   "cell_type": "code",
   "execution_count": null,
   "id": "a18b0ea1-3221-47b6-92f3-1715fb64ac2f",
   "metadata": {},
   "outputs": [],
   "source": [
    "# generating visibility graphs for the entire dataset (in batches)\n",
    "visibility_graphs = process_in_batches(data, batch_size = jati_lekhdaa_ni_huncha)"
   ]
  },
  {
   "cell_type": "code",
   "execution_count": null,
   "id": "de63044e-892f-43e9-92f7-5f947185ba80",
   "metadata": {},
   "outputs": [],
   "source": [
    "# save visibility graphs for future use (serialization)\n",
    "with open('visibility_graphs.pkl', 'wb') as f:\n",
    "    pickle.dump(visibility_graphs, f)"
   ]
  },
  {
   "cell_type": "code",
   "execution_count": null,
   "id": "b93fc01e-2d2e-4048-b2b7-e860ef1655ac",
   "metadata": {},
   "outputs": [],
   "source": [
    "len(visibility_graphs)"
   ]
  },
  {
   "cell_type": "code",
   "execution_count": null,
   "id": "b047c156-d4e1-4f7e-8fcf-91c7bb3a898f",
   "metadata": {
    "scrolled": true
   },
   "outputs": [],
   "source": [
    "visibility_graphs"
   ]
  },
  {
   "cell_type": "code",
   "execution_count": null,
   "id": "fe27b4e7-6d0a-44c7-a19f-bf5c15508eef",
   "metadata": {},
   "outputs": [],
   "source": [
    "sampled_graphs = visibility_graphs[:5] # this is to print the graphs serially, right now it prints from 0 to 4\n",
    "# to plot the sampled graphs (all of them: [:5] replaced by \"len(visibility_graphs)\"))\n",
    "\n",
    "for i, G in enumerate(sampled_graphs):\n",
    "    \n",
    "    pos = nx.circular_layout(G)\n",
    "    # pos = nx.shell_layout(G)\n",
    "    # pos = nx.spring_layout(G, k = 0.8, iterations = 50)\n",
    "        \n",
    "    layout_params = {\"pos\": {j: (j, v) for j, v in enumerate(G.nodes())}}\n",
    "    \n",
    "    plt.figure(figsize=(8, 8))\n",
    "    plt.xlabel(\"Time\", fontsize = 14)\n",
    "    plt.ylabel(\"Value\", fontsize = 14)\n",
    "    plt.margins(0.20)\n",
    "\n",
    "    nx.draw_networkx_nodes(G, pos, alpha = 0.3, node_size = 300, node_color = 'green')\n",
    "    nx.draw_networkx_labels(G, pos, font_size = 10, font_color = 'black', font_weight = 'normal')\n",
    "    nx.draw_networkx_edges(G, pos, alpha = 0.6, width = 1, edge_color='blue', style = 'solid', arrows = True, arrowstyle = '-')\n",
    "\n",
    "    plt.title(f\"Visibility Graph {i}\", fontsize = 12)\n",
    "    plt.axis(\"equal\")\n",
    "    plt.tight_layout()\n",
    "    plt.show()\n",
    "    plt.close()  # close the figure after displaying it"
   ]
  },
  {
   "cell_type": "code",
   "execution_count": null,
   "id": "822a507e-c566-49ec-b884-0c1e0aa6b501",
   "metadata": {
    "scrolled": true
   },
   "outputs": [],
   "source": [
    "labels = nx.get_node_attributes(G, \"value\") # last graph row's value\n",
    "labels"
   ]
  },
  {
   "cell_type": "markdown",
   "id": "963fb71a-9ab0-4a5a-af5c-682bc7387f5e",
   "metadata": {},
   "source": [
    "# Classifying the Feature"
   ]
  },
  {
   "cell_type": "code",
   "execution_count": null,
   "id": "8e82adc0-9396-41a8-86a5-8cc53b82d9b3",
   "metadata": {},
   "outputs": [],
   "source": [
    "# harek row in data[column_names] ko laagi euta graph banayeko cha\n",
    "# avg_1 column maa last 20 values hudaina\n",
    "# avg_20 column maa first 20 values hudaina\n",
    "\n",
    "# tara day 1 ko average \"avg_1\" ley diyeko cha AND day 20 ko average \"avg_20\" ley diyeko cha\n",
    "# first row ko day 20 ko average: avg_20 ko thyakka tala day 21 ko average: \"avg_21\" huncha (if you know how sliding window works)\n",
    "# so aba class banaudaa day 21 ko day 20 ko comparison maa badyo ki nai ta? tyo chai label gareko\n",
    "# badyo = 2, same = 1, ghatyo = 0\n",
    "# ani tei anusaar, row 0 (yes 0, first row) by the value of day_21 chai will be labeled as 2, 1, or 0 ani tyo row tyo class ma paryo\n",
    "# either badney class maa, equal class maa, or ghatney class maa"
   ]
  },
  {
   "cell_type": "code",
   "execution_count": null,
   "id": "972e91fa-fef7-4fff-a9d9-e8520f6a7195",
   "metadata": {},
   "outputs": [],
   "source": [
    "work_on = data[column_names]\n",
    "work_on"
   ]
  },
  {
   "cell_type": "code",
   "execution_count": null,
   "id": "e5dc9303-307e-4372-960d-36df618824bb",
   "metadata": {},
   "outputs": [],
   "source": [
    "work_on.loc[:, ['class']] = 0  # initialize the 'class' column with 0\n",
    "work_on.head()"
   ]
  },
  {
   "cell_type": "code",
   "execution_count": null,
   "id": "7d987475-3367-48e8-b3e6-39b27dc7e959",
   "metadata": {},
   "outputs": [],
   "source": [
    "work = work_on.columns[-2]\n",
    "work_on[work]"
   ]
  },
  {
   "cell_type": "code",
   "execution_count": null,
   "id": "a2e3a29a-58c8-4915-aedb-3b9e989155cc",
   "metadata": {},
   "outputs": [],
   "source": [
    "work_on.loc[1, work]"
   ]
  },
  {
   "cell_type": "code",
   "execution_count": null,
   "id": "f994b5aa-3826-4376-8193-465c4475ffba",
   "metadata": {},
   "outputs": [],
   "source": [
    "for i in range(len(work_on) - 1):\n",
    "    if work_on.loc[i, work] == work_on.loc[i + 1, work]:\n",
    "        work_on.loc[i, 'class'] = 1\n",
    "    elif work_on.loc[i, work] > work_on.loc[i + 1, work]:\n",
    "        work_on.loc[i, 'class'] = 2"
   ]
  },
  {
   "cell_type": "code",
   "execution_count": null,
   "id": "4dc8ac57-2146-42d0-be77-3333c18e9d6e",
   "metadata": {},
   "outputs": [],
   "source": [
    "work_on"
   ]
  },
  {
   "cell_type": "code",
   "execution_count": null,
   "id": "720e9a5a-dc13-45a4-93cf-d27d29652b0e",
   "metadata": {},
   "outputs": [],
   "source": [
    "verify_gara = work_on[[work, 'class']]\n",
    "verify_gara"
   ]
  },
  {
   "cell_type": "code",
   "execution_count": null,
   "id": "82d5a6b5-dc70-4393-8f5d-d3ce86ef719b",
   "metadata": {},
   "outputs": [],
   "source": [
    "verify_gara['class'].value_counts()"
   ]
  },
  {
   "cell_type": "code",
   "execution_count": null,
   "id": "ec5d1a4c-c821-40d1-b56b-ab849ab89106",
   "metadata": {
    "scrolled": true
   },
   "outputs": [],
   "source": [
    "# the goal here is to associate each visibility graph with its respective class (0, 1 or 2) and store them together.\n",
    "graph_dataset = [(G, label) for G, label in zip(visibility_graphs, work_on['class'])] # graph = G ani data['class'] ko values sanga zipped\n",
    "graph_dataset"
   ]
  },
  {
   "cell_type": "code",
   "execution_count": null,
   "id": "90dd1c88-4deb-496b-b8af-ec35ed7e6b7f",
   "metadata": {},
   "outputs": [],
   "source": [
    "# repeat: saving the graph dataset to a file but different name: not coincinding with previous save file\n",
    "with open('graph_dataset_class_labeled.pkl', 'wb') as f: # wb bhannaley, write binary file: f\n",
    "    pickle.dump(graph_dataset, f) "
   ]
  },
  {
   "cell_type": "code",
   "execution_count": null,
   "id": "0f76a694-0a21-4f61-89ba-1e15a63a636d",
   "metadata": {},
   "outputs": [],
   "source": [
    "# if you want to load the dataset for further analysis/work/reading/anything use:\n",
    "with open('graph_dataset_class_labeled.pkl', 'rb') as f: # rb bhannaley read binary file: f\n",
    "    graph_dataset = pickle.load(f)"
   ]
  },
  {
   "cell_type": "code",
   "execution_count": null,
   "id": "e91450a0-895c-405d-9db4-4fc9c5eadde0",
   "metadata": {},
   "outputs": [],
   "source": [
    "# check if the recently loaded pickle file of graph database is legit\n",
    "for i in range(5):\n",
    "    graph, label = graph_dataset[i]\n",
    "    print(f\"Graph {i+1}: Class Label = {label}\")\n",
    "    print(f\"Number of Nodes: {graph.number_of_nodes()}\")\n",
    "    print(f\"Number of Edges: {graph.number_of_edges()}\\n\")"
   ]
  },
  {
   "cell_type": "markdown",
   "id": "8ccb4915-b978-402b-9e39-9878ab7e03bd",
   "metadata": {},
   "source": [
    "# Statistical Analysis"
   ]
  },
  {
   "cell_type": "code",
   "execution_count": null,
   "id": "3c22568c-c941-4012-8b2c-faa9bee3118f",
   "metadata": {},
   "outputs": [],
   "source": [
    "def extract_graph_features(graph):\n",
    "    nodes = graph.number_of_nodes()\n",
    "    edges = graph.number_of_edges()\n",
    "    diameter = nx.diameter(graph) if nodes > 1 else 0\n",
    "\n",
    "    center = nx.center(graph) if nodes > 1 else []\n",
    "    radius = nx.radius(graph) if nodes > 1 else 0\n",
    "    \n",
    "    return {\n",
    "        '#nodes': nodes,\n",
    "        '#edges': edges,\n",
    "        'diameter': diameter,\n",
    "        'center': center,\n",
    "        'radius': radius\n",
    "    }"
   ]
  },
  {
   "cell_type": "code",
   "execution_count": null,
   "id": "a37a3a87-cbc5-4fc2-86d2-ef93d2755ecb",
   "metadata": {},
   "outputs": [],
   "source": [
    "feature_data = []\n",
    "\n",
    "for graph, label in graph_dataset:\n",
    "    features = extract_graph_features(graph)\n",
    "    features['class'] = label  # add the class as label\n",
    "    feature_data.append(features)\n",
    "\n",
    "# now in dataframe\n",
    "features_df = pd.DataFrame(feature_data)\n",
    "features_df"
   ]
  },
  {
   "cell_type": "code",
   "execution_count": null,
   "id": "d8898ef0-cc00-4c58-93e0-e4fa72d0e543",
   "metadata": {},
   "outputs": [],
   "source": [
    "plt.figure(figsize=(10, 10))\n",
    "sns.kdeplot(features_df[features_df['class'] == 0]['radius'], label='Class 0', fill=False, color='blue', alpha=0.9)\n",
    "sns.kdeplot(features_df[features_df['class'] == 1]['radius'], label='Class 1', fill=False, color='green', alpha=0.9)\n",
    "sns.kdeplot(features_df[features_df['class'] == 2]['radius'], label='Class 2', fill=False, color='red', alpha=0.9)\n",
    "\n",
    "plt.title('Distribution of Radius by Class')\n",
    "plt.xlabel('Radius')\n",
    "plt.ylabel('Density')\n",
    "plt.legend()\n",
    "plt.grid(True)\n",
    "plt.savefig('Distribution of Radius by Class', dpi=300, bbox_inches='tight')\n",
    "plt.show()"
   ]
  },
  {
   "cell_type": "code",
   "execution_count": null,
   "id": "caa17932-d546-4bff-90d5-ce4b0b290258",
   "metadata": {},
   "outputs": [],
   "source": [
    "plt.figure(figsize=(10, 10))\n",
    "sns.kdeplot(features_df[features_df['class'] == 0]['diameter'], label='Class 0', fill=False, color='blue', alpha=0.9)\n",
    "sns.kdeplot(features_df[features_df['class'] == 1]['diameter'], label='Class 1', fill=False, color='green', alpha=0.9)\n",
    "sns.kdeplot(features_df[features_df['class'] == 2]['diameter'], label='Class 2', fill=False, color='red', alpha=0.9)\n",
    "\n",
    "plt.title('Distribution of Diameter by Class')\n",
    "plt.xlabel('Diameter')\n",
    "plt.ylabel('Density')\n",
    "plt.legend()\n",
    "plt.grid(True)\n",
    "plt.savefig('Distribution of Diameter by Class', dpi=300, bbox_inches='tight')\n",
    "plt.show()"
   ]
  },
  {
   "cell_type": "code",
   "execution_count": null,
   "id": "30ed7f11-eb67-4bf6-bb74-42a246336169",
   "metadata": {},
   "outputs": [],
   "source": [
    "number_of_centers = []\n",
    "\n",
    "for i in features_df['center']:\n",
    "    print(len(i))\n",
    "    number_of_centers.append(len(i))"
   ]
  },
  {
   "cell_type": "code",
   "execution_count": null,
   "id": "4c0f70e7-0612-4b1c-9019-8ce69dcd9ccc",
   "metadata": {},
   "outputs": [],
   "source": [
    "features_df['number_of_centers'] = number_of_centers\n",
    "features_df.head()"
   ]
  },
  {
   "cell_type": "code",
   "execution_count": null,
   "id": "54a2851e-6a71-4460-aaee-12245ce9822a",
   "metadata": {},
   "outputs": [],
   "source": [
    "plt.figure(figsize=(10, 10))\n",
    "sns.kdeplot(features_df[features_df['class'] == 0]['number_of_centers'], label='Class 0', fill=False, color='blue', alpha=0.9)\n",
    "sns.kdeplot(features_df[features_df['class'] == 1]['number_of_centers'], label='Class 1', fill=False, color='green', alpha=0.9)\n",
    "sns.kdeplot(features_df[features_df['class'] == 2]['number_of_centers'], label='Class 2', fill=False, color='red', alpha=0.9)\n",
    "\n",
    "plt.title('Distribution of Number of Centers by Class')\n",
    "plt.xlabel('Number of Centers')\n",
    "plt.ylabel('Density')\n",
    "plt.legend()\n",
    "plt.grid(True)\n",
    "plt.savefig('Distribution of Number of Centers by Class', dpi=300, bbox_inches='tight')\n",
    "plt.show()"
   ]
  },
  {
   "cell_type": "code",
   "execution_count": null,
   "id": "d8be51e9-c821-40a5-9fcf-9dbcb465c74c",
   "metadata": {},
   "outputs": [],
   "source": [
    "plt.figure(figsize=(10, 10))\n",
    "sns.kdeplot(features_df[features_df['class'] == 0]['#edges'], label='Class 0', fill=False, color='blue', alpha=0.9)\n",
    "sns.kdeplot(features_df[features_df['class'] == 1]['#edges'], label='Class 1', fill=False, color='green', alpha=0.9)\n",
    "sns.kdeplot(features_df[features_df['class'] == 2]['#edges'], label='Class 2', fill=False, color='red', alpha=0.9)\n",
    "\n",
    "plt.title('Distribution of Number of Edges by Class')\n",
    "plt.xlabel('Number of Edges')\n",
    "plt.ylabel('Density')\n",
    "plt.legend()\n",
    "plt.grid(True)\n",
    "plt.savefig('Distribution of Number of Edges by Class', dpi=300, bbox_inches='tight')\n",
    "plt.show()"
   ]
  },
  {
   "cell_type": "code",
   "execution_count": null,
   "id": "8f18067e-85f8-40e8-8092-ec8260cf23dc",
   "metadata": {},
   "outputs": [],
   "source": []
  },
  {
   "cell_type": "code",
   "execution_count": null,
   "id": "88394248-32ba-4950-94bf-f58d0c70e929",
   "metadata": {},
   "outputs": [],
   "source": []
  }
 ],
 "metadata": {
  "kernelspec": {
   "display_name": "Python 3 (ipykernel)",
   "language": "python",
   "name": "python3"
  },
  "language_info": {
   "codemirror_mode": {
    "name": "ipython",
    "version": 3
   },
   "file_extension": ".py",
   "mimetype": "text/x-python",
   "name": "python",
   "nbconvert_exporter": "python",
   "pygments_lexer": "ipython3",
   "version": "3.12.4"
  }
 },
 "nbformat": 4,
 "nbformat_minor": 5
}
